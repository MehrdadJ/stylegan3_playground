{
 "cells": [
  {
   "cell_type": "code",
   "execution_count": 2,
   "metadata": {},
   "outputs": [],
   "source": [
    "import json\n",
    "import os\n",
    "import shutil\n",
    "\n",
    "# Define paths\n",
    "label_map_1_path = '/home/me/stylegan3/~/datasets/diospyros_c_256/label_map.txt'\n",
    "label_map_2_path = '/home/me/stylegan3/output/label_map.txt'\n",
    "dataset_json_path = '/home/me/stylegan3/output/dataset.json'\n",
    "source_images_dir = '/home/me/stylegan3/output/'\n",
    "destination_dir = '/home/me/stylegan3/gen_diospyros_c_256/val/'\n",
    "\n",
    "# Step 1: Read label maps and create dictionaries\n",
    "def read_label_map(file_path):\n",
    "    with open(file_path, 'r') as file:\n",
    "        return {line.split()[0]: int(line.split()[1]) for line in file.readlines()}\n",
    "\n",
    "label_map_1 = read_label_map(label_map_1_path)\n",
    "label_map_2 = {value: key for key, value in read_label_map(label_map_2_path).items()}\n",
    "\n",
    "# Step 2: Load dataset.json\n",
    "with open(dataset_json_path, 'r') as json_file:\n",
    "    data = json.load(json_file)\n",
    "\n",
    "# Step 3 and 4: Remap species name to class number using label_map_2 and label_map_1\n",
    "for img_info in data['labels']:\n",
    "    img_path, class_num = img_info\n",
    "    species_name = label_map_2[class_num]  # Map to species name\n",
    "    original_class_num = label_map_1[species_name]  # Map to original class number\n",
    "\n",
    "    # Step 5: Create directory if it doesn't exist\n",
    "    class_dir = os.path.join(destination_dir, str(original_class_num))\n",
    "    if not os.path.exists(class_dir):\n",
    "        os.makedirs(class_dir)\n",
    "\n",
    "    # Step 6: Copy image to corresponding directory\n",
    "    src_img_path = os.path.join(source_images_dir, img_path)\n",
    "    dst_img_path = os.path.join(class_dir, os.path.basename(img_path))\n",
    "    shutil.copy(src_img_path, dst_img_path)\n"
   ]
  }
 ],
 "metadata": {
  "kernelspec": {
   "display_name": "stylegan3",
   "language": "python",
   "name": "python3"
  },
  "language_info": {
   "codemirror_mode": {
    "name": "ipython",
    "version": 3
   },
   "file_extension": ".py",
   "mimetype": "text/x-python",
   "name": "python",
   "nbconvert_exporter": "python",
   "pygments_lexer": "ipython3",
   "version": "3.9.18"
  }
 },
 "nbformat": 4,
 "nbformat_minor": 2
}
